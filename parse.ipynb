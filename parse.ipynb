{
 "cells": [
  {
   "cell_type": "code",
   "execution_count": 2,
   "metadata": {},
   "outputs": [],
   "source": [
    "# imports and link xml\n",
    "import re\n",
    "from pprint import pprint\n",
    "import xml.etree.ElementTree as ET\n",
    "tree = ET.parse('session/Kismet-20191011-18-31-55-1.netxml')\n",
    "root = tree.getroot()"
   ]
  },
  {
   "cell_type": "code",
   "execution_count": 3,
   "metadata": {},
   "outputs": [],
   "source": [
    "StationList = [] # MAC, [[min GPS],[max GPS]], [[first seen],[last seen]], device type, encryption, ESSID"
   ]
  },
  {
   "cell_type": "code",
   "execution_count": 4,
   "metadata": {},
   "outputs": [],
   "source": [
    "def getDeviceType(bssid): # find vendor based off MAC address\n",
    "    file = open('mac-vendors.txt', 'r', encoding=\"utf8\")\n",
    "    raw=[]\n",
    "    mac_dict={}\n",
    "    for line in file:\n",
    "        raw.append(re.split(r'\\t+', line.strip()))\n",
    "    for pair in raw:\n",
    "        mac_dict[pair[0]]= pair[1]\n",
    "    return mac_dict.get(bssid[:8])"
   ]
  },
  {
   "cell_type": "code",
   "execution_count": 5,
   "metadata": {},
   "outputs": [],
   "source": [
    "def appendArray(net, child): # parse xml and create array data\n",
    "    if (child.tag == net) :\n",
    "        bssid, essid = \"\", \"\"\n",
    "        gps, time, encryption = [], [], []\n",
    "        if (net==\"wireless-network\"): # network xml tag\n",
    "            scan= 'BSSID'\n",
    "        else:\n",
    "            scan= 'client-mac'        # client xml tag\n",
    "        for bssid_tag in child.findall(scan):\n",
    "            bssid = bssid_tag.text\n",
    "        for gps_tag in child.findall(\"gps-info\"):\n",
    "            gps= [[gps_tag[0].text, gps_tag[1].text],[gps_tag[4].text, gps_tag[5].text]]\n",
    "        time = [child.attrib['first-time'],child.attrib['last-time']]\n",
    "        for ssid_tag in child.findall('SSID'):\n",
    "            for essid_tag in ssid_tag.findall('essid'):\n",
    "                essid= essid_tag.text\n",
    "            for info_tag in ssid_tag :\n",
    "                if (info_tag.tag == \"encryption\"):\n",
    "                    encryption.append(info_tag.text)\n",
    "        StationList.append([bssid,gps,time,getDeviceType(bssid),encryption,essid]) "
   ]
  },
  {
   "cell_type": "code",
   "execution_count": 6,
   "metadata": {},
   "outputs": [],
   "source": [
    "for child in root:\n",
    "    appendArray(\"wireless-network\",child) #networks\n",
    "    for subchild in child:\n",
    "        appendArray(\"wireless-client\", subchild) #clients\n",
    "#print(StationList)"
   ]
  }
 ],
 "metadata": {
  "kernelspec": {
   "display_name": "Python 3",
   "language": "python",
   "name": "python3"
  },
  "language_info": {
   "codemirror_mode": {
    "name": "ipython",
    "version": 3
   },
   "file_extension": ".py",
   "mimetype": "text/x-python",
   "name": "python",
   "nbconvert_exporter": "python",
   "pygments_lexer": "ipython3",
   "version": "3.6.5"
  }
 },
 "nbformat": 4,
 "nbformat_minor": 2
}
