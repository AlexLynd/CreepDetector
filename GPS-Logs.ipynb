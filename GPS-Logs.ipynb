{
 "cells": [
  {
   "cell_type": "code",
   "execution_count": 4,
   "metadata": {},
   "outputs": [],
   "source": [
    "import pandas as pd\n",
    "import folium\n",
    "import xml.etree.ElementTree as ET\n",
    "tree = ET.parse('session/Kismet-20191011-18-31-55-1.gpsxml')\n",
    "root = tree.getroot()"
   ]
  },
  {
   "cell_type": "code",
   "execution_count": 5,
   "metadata": {},
   "outputs": [
    {
     "name": "stdout",
     "output_type": "stream",
     "text": [
      "34.196342 -118.340179\n",
      "34.196342 -118.340179\n",
      "34.196342 -118.340179\n",
      "34.196342 -118.340179\n",
      "34.190895 -118.341736\n",
      "34.190895 -118.341736\n",
      "34.190895 -118.341736\n",
      "34.190895 -118.341736\n",
      "34.190895 -118.341736\n",
      "34.190941 -118.341743\n",
      "34.190941 -118.341743\n",
      "34.190941 -118.341743\n"
     ]
    }
   ],
   "source": [
    "for child in root:\n",
    "    if (child.tag == \"gps-point\" and child.attrib['bssid'] == \"B0:72:BF:EE:15:42\"):\n",
    "        print (child.attrib['lat'],child.attrib['lon'])"
   ]
  },
  {
   "cell_type": "code",
   "execution_count": null,
   "metadata": {},
   "outputs": [],
   "source": []
  },
  {
   "cell_type": "code",
   "execution_count": null,
   "metadata": {},
   "outputs": [],
   "source": []
  }
 ],
 "metadata": {
  "kernelspec": {
   "display_name": "Python 3",
   "language": "python",
   "name": "python3"
  },
  "language_info": {
   "codemirror_mode": {
    "name": "ipython",
    "version": 3
   },
   "file_extension": ".py",
   "mimetype": "text/x-python",
   "name": "python",
   "nbconvert_exporter": "python",
   "pygments_lexer": "ipython3",
   "version": "3.6.5"
  }
 },
 "nbformat": 4,
 "nbformat_minor": 2
}
