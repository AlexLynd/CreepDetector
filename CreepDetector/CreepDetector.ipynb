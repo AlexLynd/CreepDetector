{
 "cells": [
  {
   "cell_type": "code",
   "execution_count": 11,
   "metadata": {},
   "outputs": [],
   "source": [
    "# imports and link kismet xml files\n",
    "import re, pandas as pd, xml.etree.ElementTree as ET\n",
    "from math import radians, cos, sin, asin, sqrt\n",
    "from IPython.display import display\n",
    "import folium\n",
    "from folium import FeatureGroup, LayerControl, Map, Marker\n",
    "\n",
    "tree = ET.parse('sesh/Kismet-20210719-20-27-11-1.netxml')\n",
    "gps_tree = ET.parse('sesh/Kismet-20210719-20-27-11-1.gpsxml')\n",
    "root, gps_root = tree.getroot(), gps_tree.getroot()"
   ]
  },
  {
   "cell_type": "code",
   "execution_count": 12,
   "metadata": {},
   "outputs": [],
   "source": [
    "# find vendor with MAC address\n",
    "file = open('../mac-vendors.txt', 'r', encoding=\"utf8\")\n",
    "mac_dict = { mac[0]: mac[1] for mac in [re.split(r'\\t+', line.strip()) for line in file] }\n",
    "def getDeviceType(bssid): return mac_dict.get(bssid[:8]) # first 3 octets"
   ]
  },
  {
   "cell_type": "code",
   "execution_count": 13,
   "metadata": {},
   "outputs": [],
   "source": [
    "# haversine formula GPS coordinate distance\n",
    "def haversine(lon1, lat1, lon2, lat2): \n",
    "    lon1, lat1, lon2, lat2 = map(radians, [lon1, lat1, lon2, lat2])\n",
    "    dlon, dlat = lon2-lon1 , lat2-lat1\n",
    "    return (6371*(2*asin(sqrt(sin(dlat/2)**2+cos(lat1)*cos(lat2)*sin(dlon/2)**2))))/1.069"
   ]
  },
  {
   "cell_type": "code",
   "execution_count": 14,
   "metadata": {},
   "outputs": [],
   "source": [
    "# netxml parser that creates array data for Wi-Fi devices\n",
    "def appendArray(net, child): \n",
    "    if (child.tag == net) :\n",
    "        bssid, essid = \"\", \"\"\n",
    "        gps, time, encryption = [], [], [] \n",
    "        scan = 'BSSID' if net == \"wireless-network\" else 'client-mac'\n",
    "        for bssid_tag in child.findall(scan): bssid = bssid_tag.text \n",
    "        for gps_tag in child.findall(\"gps-info\"):\n",
    "            gps = [[float(gps_tag[0].text), float(gps_tag[1].text)],[float(gps_tag[4].text), float(gps_tag[5].text)]]\n",
    "        time = [child.attrib['first-time'], child.attrib['last-time']]\n",
    "        for ssid_tag in child.findall('SSID'):\n",
    "            for essid_tag in ssid_tag.findall('essid'): essid= essid_tag.text\n",
    "            encryption = [info_tag.text for info_tag in ssid_tag if info_tag.tag == \"encryption\"]\n",
    "        StationList.append([bssid,gps,time,getDeviceType(bssid),encryption,essid])  # add individual device entry"
   ]
  },
  {
   "cell_type": "code",
   "execution_count": 15,
   "metadata": {},
   "outputs": [],
   "source": [
    "# create array of all devices found\n",
    "StationList = [] # MAC, GPS[[min],[max]], time[[first seen],[last seen]], device type, encryption, ESSID\n",
    "for child in root:\n",
    "    appendArray(\"wireless-network\",child) # network\n",
    "    for subchild in child:\n",
    "        appendArray(\"wireless-client\", subchild) # client under network tag"
   ]
  },
  {
   "cell_type": "markdown",
   "metadata": {},
   "source": [
    "### creep detecting starts here"
   ]
  },
  {
   "cell_type": "code",
   "execution_count": null,
   "metadata": {},
   "outputs": [],
   "source": [
    "# creep list with threshold of .20 miles\n",
    "threshold = .50\n",
    "creeps = [StationList[index] for index in range(0,len(StationList)) if haversine(StationList[index][1][0][0],StationList[index][1][0][1],StationList[index][1][1][0],StationList[index][1][1][1]) > threshold]        \n",
    "\n",
    "# remove duplicates\n",
    "unique, duplicate = [], []\n",
    "for creep, i in zip(creeps, range(len(creeps))) :\n",
    "    if creep[0] not in unique: unique.append(creep[0])\n",
    "    else: duplicate.append(i)\n",
    "for index in sorted(duplicate, reverse=True): del creeps[index]  \n",
    "\n",
    "# check source MAC\n",
    "for child in creeps : child[1] = [[float(gpss.attrib[\"lat\"]),float(gpss.attrib[\"lon\"])] for gpss in gps_root if (('source' in gpss.attrib) and gpss.attrib['source']==child[0])]\n",
    "\n",
    "pd.DataFrame(creeps, columns=[\"BSSID\", \"GPS\",\"Dates\",\"Manufacturer\",\"Encryption\",\"ESSID\"])"
   ]
  },
  {
   "cell_type": "code",
   "execution_count": 18,
   "metadata": {},
   "outputs": [],
   "source": [
    "# this code tries to approximate a path by searching for the closest point from the starting coordinate.\n",
    "# may need to be tweaked according to your data set\n",
    "\n",
    "# gather all gps points\n",
    "coordinates = list(set(map(tuple,[[float(child.attrib['lat']),float(child.attrib['lon'])] for child in gps_root if child.tag == \"gps-point\"])))\n",
    "\n",
    "# function to find closest point to current index and sort a path\n",
    "def findClose(loop) :\n",
    "    for iter in range(0,loop) :\n",
    "        for coord in range(0, len(coordinates)):\n",
    "            low = 10000000000000000\n",
    "            for nextc in range(coord+1, len(coordinates)):\n",
    "                if (haversine(coordinates[coord][0],coordinates[coord][1],coordinates[nextc][0],coordinates[nextc][1]) < low): # closest \n",
    "                    low = haversine(coordinates[coord][0],coordinates[coord][1],coordinates[nextc][0],coordinates[nextc][1])\n",
    "                    index = nextc\n",
    "            coordinates.insert(coord+1, coordinates.pop(index))\n",
    "        coordinates.reverse() # reverse list since it always almost ends up at the correct finishing point\n",
    "    \n",
    "findClose(2) # sort twice\n",
    "    \n",
    "# find largest gap between two points and set as first. if your path is fine above, comment this out\n",
    "large = 0\n",
    "for i in range(0, len(coordinates)-1):\n",
    "    if haversine(coordinates[i][0],coordinates[i][1],coordinates[i+1][0],coordinates[i+1][1]) > large:\n",
    "        large = haversine(coordinates[i][0],coordinates[i][1],coordinates[i+1][0],coordinates[i+1][1])\n",
    "        index = i\n",
    "coordinates.insert(0, coordinates.pop(index))\n",
    "\n",
    "findClose(3) # sort three times"
   ]
  },
  {
   "cell_type": "code",
   "execution_count": null,
   "metadata": {},
   "outputs": [],
   "source": [
    "# map reference frame, plot path\n",
    "LDN_COORDINATES = (33.657948, -117.586311)\n",
    "myMap = folium.Map(location=LDN_COORDINATES, zoom_start=15)\n",
    "folium.PolyLine(coordinates,line_opacity = 0.5, weight = 4).add_to(myMap)\n",
    "colors = [ 'red', 'blue', 'green', 'orange', 'purple', 'beige', 'gray', 'pink', 'black', 'lightgreen', 'darkblue', 'lightblue', 'lightred', 'darkpurple', 'darkred', 'cadetblue', 'lightgray', 'darkgreen' ]\n",
    "\n",
    "# hacky solution to plot creeps\n",
    "for x in range(0, len(creeps)): \n",
    "    globals()['creep%s' % x] = FeatureGroup(name = 'Creep '+ str(x))\n",
    "    for creep_loc in creeps[x][1]: Marker(location=creep_loc, popup=creeps[x][0],  icon=folium.Icon(color=colors[x % len(colors)], icon='user-secret', prefix='fa')).add_to(globals()['creep%s' % x])  \n",
    "    globals()['creep%s' % x].add_to(myMap)\n",
    "    \n",
    "# add toggle for creeps\n",
    "LayerControl().add_to(myMap)\n",
    "display(myMap)"
   ]
  },
  {
   "cell_type": "code",
   "execution_count": null,
   "metadata": {},
   "outputs": [],
   "source": []
  },
  {
   "cell_type": "code",
   "execution_count": null,
   "metadata": {},
   "outputs": [],
   "source": []
  },
  {
   "cell_type": "code",
   "execution_count": null,
   "metadata": {},
   "outputs": [],
   "source": []
  }
 ],
 "metadata": {
  "kernelspec": {
   "display_name": "Python 3",
   "language": "python",
   "name": "python3"
  },
  "language_info": {
   "codemirror_mode": {
    "name": "ipython",
    "version": 3
   },
   "file_extension": ".py",
   "mimetype": "text/x-python",
   "name": "python",
   "nbconvert_exporter": "python",
   "pygments_lexer": "ipython3",
   "version": "3.8.10"
  }
 },
 "nbformat": 4,
 "nbformat_minor": 2
}
