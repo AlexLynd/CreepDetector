{
 "cells": [
  {
   "cell_type": "code",
   "execution_count": 58,
   "metadata": {},
   "outputs": [],
   "source": [
    "# imports and link xml\n",
    "import re\n",
    "from math import radians, cos, sin, asin, sqrt\n",
    "import folium\n",
    "from IPython.display import display\n",
    "import pandas as pd\n",
    "import xml.etree.ElementTree as ET\n",
    "tree = ET.parse('session/Kismet-20191011-18-31-55-1.netxml')\n",
    "root = tree.getroot()"
   ]
  },
  {
   "cell_type": "code",
   "execution_count": 59,
   "metadata": {},
   "outputs": [],
   "source": [
    "StationList = [] # MAC, [[min GPS],[max GPS]], [[first seen],[last seen]], device type, encryption, ESSID"
   ]
  },
  {
   "cell_type": "code",
   "execution_count": 60,
   "metadata": {},
   "outputs": [],
   "source": [
    "def getDeviceType(bssid): # find vendor based off MAC address\n",
    "    file = open('mac-vendors.txt', 'r', encoding=\"utf8\")\n",
    "    raw=[]\n",
    "    mac_dict={}\n",
    "    for line in file:\n",
    "        raw.append(re.split(r'\\t+', line.strip()))\n",
    "    for pair in raw:\n",
    "        mac_dict[pair[0]]= pair[1]\n",
    "    return mac_dict.get(bssid[:8])"
   ]
  },
  {
   "cell_type": "code",
   "execution_count": 61,
   "metadata": {},
   "outputs": [],
   "source": [
    "def haversine(lon1, lat1, lon2, lat2): # haversine formula for point distance\n",
    "    lon1, lat1, lon2, lat2 = map(radians, [lon1, lat1, lon2, lat2])\n",
    "    dlon = lon2 - lon1 \n",
    "    dlat = lat2 - lat1 \n",
    "    a = sin(dlat/2)**2 + cos(lat1) * cos(lat2) * sin(dlon/2)**2\n",
    "    c = 2 * asin(sqrt(a)) \n",
    "    m = 6371* c/ 1.069\n",
    "    return m"
   ]
  },
  {
   "cell_type": "code",
   "execution_count": 62,
   "metadata": {},
   "outputs": [],
   "source": [
    "def appendArray(net, child): # parse xml and create array data\n",
    "    if (child.tag == net) :\n",
    "        bssid, essid = \"\", \"\"\n",
    "        gps, time, encryption = [], [], []\n",
    "        if (net==\"wireless-network\"): # network xml tag\n",
    "            scan= 'BSSID'\n",
    "        else:\n",
    "            scan= 'client-mac'        # client xml tag\n",
    "        for bssid_tag in child.findall(scan):\n",
    "            bssid = bssid_tag.text\n",
    "        for gps_tag in child.findall(\"gps-info\"):\n",
    "            gps= [[gps_tag[0].text, gps_tag[1].text],[gps_tag[4].text, gps_tag[5].text]]\n",
    "        time = [child.attrib['first-time'],child.attrib['last-time']]\n",
    "        for ssid_tag in child.findall('SSID'):\n",
    "            for essid_tag in ssid_tag.findall('essid'):\n",
    "                essid= essid_tag.text\n",
    "            for info_tag in ssid_tag :\n",
    "                if (info_tag.tag == \"encryption\"):\n",
    "                    encryption.append(info_tag.text)\n",
    "        StationList.append([bssid,gps,time,getDeviceType(bssid),encryption,essid]) "
   ]
  },
  {
   "cell_type": "code",
   "execution_count": 63,
   "metadata": {},
   "outputs": [],
   "source": [
    "for child in root:\n",
    "    appendArray(\"wireless-network\",child) #networks\n",
    "    for subchild in child:\n",
    "        appendArray(\"wireless-client\", subchild) #clients\n",
    "# lists all wireless devices\n",
    "# pd.DataFrame(StationList, columns=[\"BSSID\", \"GPS\",\"Dates\",\"Manufacturer\",\"Encryption\",\"ESSID\"])"
   ]
  },
  {
   "cell_type": "markdown",
   "metadata": {},
   "source": [
    "### creep detecting starts here"
   ]
  },
  {
   "cell_type": "code",
   "execution_count": 104,
   "metadata": {},
   "outputs": [
    {
     "data": {
      "text/html": [
       "<div>\n",
       "<style scoped>\n",
       "    .dataframe tbody tr th:only-of-type {\n",
       "        vertical-align: middle;\n",
       "    }\n",
       "\n",
       "    .dataframe tbody tr th {\n",
       "        vertical-align: top;\n",
       "    }\n",
       "\n",
       "    .dataframe thead th {\n",
       "        text-align: right;\n",
       "    }\n",
       "</style>\n",
       "<table border=\"1\" class=\"dataframe\">\n",
       "  <thead>\n",
       "    <tr style=\"text-align: right;\">\n",
       "      <th></th>\n",
       "      <th>BSSID</th>\n",
       "      <th>GPS</th>\n",
       "      <th>Dates</th>\n",
       "      <th>Manufacturer</th>\n",
       "      <th>Encryption</th>\n",
       "      <th>ESSID</th>\n",
       "    </tr>\n",
       "  </thead>\n",
       "  <tbody>\n",
       "    <tr>\n",
       "      <th>0</th>\n",
       "      <td>00:0D:97:00:5B:33</td>\n",
       "      <td>[[34.190987, -118.341560], [34.196323, -118.34...</td>\n",
       "      <td>[Fri Oct 11 18:35:27 2019, Fri Oct 11 18:45:34...</td>\n",
       "      <td>ABB Inc./Tropos</td>\n",
       "      <td>[None]</td>\n",
       "      <td>BWP Free WiFi</td>\n",
       "    </tr>\n",
       "    <tr>\n",
       "      <th>1</th>\n",
       "      <td>00:0D:97:09:B1:A4</td>\n",
       "      <td>[[34.190887, -118.341789], [34.195740, -118.34...</td>\n",
       "      <td>[Fri Oct 11 18:36:36 2019, Fri Oct 11 18:45:43...</td>\n",
       "      <td>ABB Inc./Tropos</td>\n",
       "      <td>[None]</td>\n",
       "      <td>None</td>\n",
       "    </tr>\n",
       "    <tr>\n",
       "      <th>2</th>\n",
       "      <td>10:DA:43:C7:32:ED</td>\n",
       "      <td>[[34.191067, -118.341705], [34.193405, -118.34...</td>\n",
       "      <td>[Fri Oct 11 18:37:01 2019, Fri Oct 11 18:43:06...</td>\n",
       "      <td>NETGEAR</td>\n",
       "      <td>[WPA+PSK, WPA+AES-CCM]</td>\n",
       "      <td>A-BEK-5G</td>\n",
       "    </tr>\n",
       "    <tr>\n",
       "      <th>3</th>\n",
       "      <td>00:01:5C:A6:8A:46</td>\n",
       "      <td>[[34.191067, -118.341705], [34.193405, -118.34...</td>\n",
       "      <td>[Fri Oct 11 18:37:01 2019, Fri Oct 11 18:43:06...</td>\n",
       "      <td>CADANT INC.</td>\n",
       "      <td>[]</td>\n",
       "      <td></td>\n",
       "    </tr>\n",
       "    <tr>\n",
       "      <th>4</th>\n",
       "      <td>8C:45:00:0C:F2:95</td>\n",
       "      <td>[[34.190895, -118.341751], [34.196323, -118.34...</td>\n",
       "      <td>[Fri Oct 11 18:32:48 2019, Fri Oct 11 18:45:39...</td>\n",
       "      <td>None</td>\n",
       "      <td>[]</td>\n",
       "      <td></td>\n",
       "    </tr>\n",
       "    <tr>\n",
       "      <th>5</th>\n",
       "      <td>B0:72:BF:EE:15:42</td>\n",
       "      <td>[[34.190895, -118.341743], [34.196342, -118.34...</td>\n",
       "      <td>[Fri Oct 11 18:32:28 2019, Fri Oct 11 18:43:30...</td>\n",
       "      <td>Murata Manufacturing Co., Ltd.</td>\n",
       "      <td>[]</td>\n",
       "      <td></td>\n",
       "    </tr>\n",
       "    <tr>\n",
       "      <th>6</th>\n",
       "      <td>B6:E6:2D:53:20:76</td>\n",
       "      <td>[[34.190865, -118.341728], [34.196136, -118.34...</td>\n",
       "      <td>[Fri Oct 11 18:33:13 2019, Fri Oct 11 18:45:24...</td>\n",
       "      <td>None</td>\n",
       "      <td>[WPA+TKIP, WPA+PSK, WPA+AES-CCM]</td>\n",
       "      <td>Creeper</td>\n",
       "    </tr>\n",
       "  </tbody>\n",
       "</table>\n",
       "</div>"
      ],
      "text/plain": [
       "               BSSID                                                GPS  \\\n",
       "0  00:0D:97:00:5B:33  [[34.190987, -118.341560], [34.196323, -118.34...   \n",
       "1  00:0D:97:09:B1:A4  [[34.190887, -118.341789], [34.195740, -118.34...   \n",
       "2  10:DA:43:C7:32:ED  [[34.191067, -118.341705], [34.193405, -118.34...   \n",
       "3  00:01:5C:A6:8A:46  [[34.191067, -118.341705], [34.193405, -118.34...   \n",
       "4  8C:45:00:0C:F2:95  [[34.190895, -118.341751], [34.196323, -118.34...   \n",
       "5  B0:72:BF:EE:15:42  [[34.190895, -118.341743], [34.196342, -118.34...   \n",
       "6  B6:E6:2D:53:20:76  [[34.190865, -118.341728], [34.196136, -118.34...   \n",
       "\n",
       "                                               Dates  \\\n",
       "0  [Fri Oct 11 18:35:27 2019, Fri Oct 11 18:45:34...   \n",
       "1  [Fri Oct 11 18:36:36 2019, Fri Oct 11 18:45:43...   \n",
       "2  [Fri Oct 11 18:37:01 2019, Fri Oct 11 18:43:06...   \n",
       "3  [Fri Oct 11 18:37:01 2019, Fri Oct 11 18:43:06...   \n",
       "4  [Fri Oct 11 18:32:48 2019, Fri Oct 11 18:45:39...   \n",
       "5  [Fri Oct 11 18:32:28 2019, Fri Oct 11 18:43:30...   \n",
       "6  [Fri Oct 11 18:33:13 2019, Fri Oct 11 18:45:24...   \n",
       "\n",
       "                     Manufacturer                        Encryption  \\\n",
       "0                 ABB Inc./Tropos                            [None]   \n",
       "1                 ABB Inc./Tropos                            [None]   \n",
       "2                         NETGEAR            [WPA+PSK, WPA+AES-CCM]   \n",
       "3                     CADANT INC.                                []   \n",
       "4                            None                                []   \n",
       "5  Murata Manufacturing Co., Ltd.                                []   \n",
       "6                            None  [WPA+TKIP, WPA+PSK, WPA+AES-CCM]   \n",
       "\n",
       "           ESSID  \n",
       "0  BWP Free WiFi  \n",
       "1           None  \n",
       "2       A-BEK-5G  \n",
       "3                 \n",
       "4                 \n",
       "5                 \n",
       "6        Creeper  "
      ]
     },
     "execution_count": 104,
     "metadata": {},
     "output_type": "execute_result"
    }
   ],
   "source": [
    "creeps = [] # list of creeps\n",
    "for index in range(0,len(StationList)):\n",
    "    distance = haversine(float(StationList[index][1][0][0]),float(StationList[index][1][0][1]),float(StationList[index][1][1][0]),float(StationList[index][1][1][1]))\n",
    "    if (distance > .20): # .20 mile threshold\n",
    "        creeps.append(StationList[index])\n",
    "        \n",
    "# filter duplicates from Kismet output\n",
    "unique, duplicate = [], []\n",
    "for creep, i in zip(creeps, range(len(creeps))) :\n",
    "    if creep[0] not in unique:\n",
    "        unique.append(creep[0])\n",
    "    else:\n",
    "        duplicate.append(i)\n",
    "for index in sorted(duplicate, reverse=True):\n",
    "    del creeps[index]\n",
    "pd.DataFrame(creeps, columns=[\"BSSID\", \"GPS\",\"Dates\",\"Manufacturer\",\"Encryption\",\"ESSID\"])"
   ]
  },
  {
   "cell_type": "code",
   "execution_count": 103,
   "metadata": {},
   "outputs": [
    {
     "data": {
      "text/html": [
       "<div style=\"width:100%;\"><div style=\"position:relative;width:100%;height:0;padding-bottom:60%;\"><iframe src=\"data:text/html;charset=utf-8;base64,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\" style=\"position:absolute;width:100%;height:100%;left:0;top:0;border:none !important;\" allowfullscreen webkitallowfullscreen mozallowfullscreen></iframe></div></div>"
      ],
      "text/plain": [
       "<folium.folium.Map at 0x7f89836f4c88>"
      ]
     },
     "metadata": {},
     "output_type": "display_data"
    }
   ],
   "source": [
    "LDN_COORDINATES = (34.196136, -118.340164)\n",
    "myMap = folium.Map(location=LDN_COORDINATES, zoom_start=60) \n",
    "display(myMap)"
   ]
  },
  {
   "cell_type": "code",
   "execution_count": null,
   "metadata": {},
   "outputs": [],
   "source": []
  },
  {
   "cell_type": "code",
   "execution_count": null,
   "metadata": {},
   "outputs": [],
   "source": []
  }
 ],
 "metadata": {
  "kernelspec": {
   "display_name": "Python 3",
   "language": "python",
   "name": "python3"
  },
  "language_info": {
   "codemirror_mode": {
    "name": "ipython",
    "version": 3
   },
   "file_extension": ".py",
   "mimetype": "text/x-python",
   "name": "python",
   "nbconvert_exporter": "python",
   "pygments_lexer": "ipython3",
   "version": "3.7.3"
  }
 },
 "nbformat": 4,
 "nbformat_minor": 2
}
