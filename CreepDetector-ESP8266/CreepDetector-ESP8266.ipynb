{
 "cells": [
  {
   "cell_type": "code",
   "execution_count": 19,
   "metadata": {},
   "outputs": [
    {
     "name": "stdout",
     "output_type": "stream",
     "text": [
      "XEROX CORPORATION\n"
     ]
    }
   ],
   "source": [
    "import re\n",
    "file = open('../mac-vendors.txt', 'r', encoding=\"utf8\")\n",
    "mac_dict = { mac[0]: mac[1] for mac in [re.split(r'\\t+', line.strip()) for line in file] } # split file by tabs into dictionary\n",
    "def getDeviceType(bssid): return mac_dict.get(bssid[:8]) # trim first 3 octets from MAC\n",
    "print(getDeviceType(\"00:00:00\"))"
   ]
  },
  {
   "cell_type": "code",
   "execution_count": null,
   "metadata": {},
   "outputs": [],
   "source": [
    "import pandas as pd\n",
    "df = pd.read_csv ('./session/log3.csv') # import list of all WiFi devices from CSV file\n",
    "\n",
    "creep_threshold = .5  # creep detection threshold distance in miles\n",
    "creep_list = []\n",
    "\n",
    "from haversine import haversine\n",
    "import itertools\n",
    "\n",
    "for mac in df['MAC'].unique():\n",
    "    ssid_list = df.loc[df['MAC'] == mac]\n",
    "    gps_coords = df.loc[df['MAC'] == mac][['Latitude', 'Longitude']].values.tolist() # list of all GPS coords per device  \n",
    "    distance = [haversine(a,b, unit='mi') for a, b in itertools.combinations(gps_coords, 2)] # distances between every single point\n",
    "    try:\n",
    "        if(max(distance) > creep_threshold):\n",
    "            creep_list.append([mac,getDeviceType(mac),ssid_list['SSID'].values[0],ssid_list['Encryption'].values[0],ssid_list['Channel'].values[0],ssid_list['RSSI'].mean(),ssid_list['AltitudeMeters'].mean(),max(distance),[ssid_list['Latitude'].values[0],ssid_list['Longitude'].values[0]],ssid_list['Seen'].values[0]])\n",
    "    except ValueError: pass\n",
    "creeps = pd.DataFrame(creep_list, columns=[\"MAC\",\"Manufacturer\",\"SSID\",\"Encryption\",\"Channel\",\"Avg RSSI\",\"Avg Altitude (m)\",\"Max Dist (mi)\",\"First Seen At\",\"First Time\"])\n",
    "creeps.style.set_table_attributes(\"style='display:inline'\").set_caption('Creeps Spotted with Threshold '+str(creep_threshold)+\" Miles\")"
   ]
  },
  {
   "cell_type": "code",
   "execution_count": null,
   "metadata": {},
   "outputs": [],
   "source": [
    "import folium\n",
    "from folium import FeatureGroup, LayerControl, Map, Marker\n",
    "myMap = folium.Map(df[['Latitude', 'Longitude']].mean().values.tolist())\n",
    "folium.PolyLine(df[['Latitude', 'Longitude']].values.tolist(),line_opacity = 0.5, weight = 4).add_to(myMap)\n",
    "myMap.fit_bounds([df[['Latitude', 'Longitude']].min().values.tolist(), df[['Latitude', 'Longitude']].max().values.tolist()])\n",
    "\n",
    "df_add = df.loc[df['MAC'].isin(creeps['MAC'].values.tolist())]\n",
    "colors = ['red', 'blue', 'green', 'orange', 'purple', 'beige', 'gray', 'pink', 'black', 'lightgreen', 'darkblue', 'lightblue', 'lightred', 'darkpurple', 'darkred', 'cadetblue', 'lightgray', 'darkgreen']\n",
    "\n",
    "for i,(grp_name, df_grp) in enumerate(df_add.groupby('MAC')):\n",
    "    if (not(pd.isnull(df_grp['SSID'].values.tolist()[0]))): \n",
    "        feature_group = folium.FeatureGroup(df_grp['SSID'].values.tolist()[0])\n",
    "    else: feature_group = folium.FeatureGroup(grp_name)\n",
    "    for row in df_grp.itertuples():\n",
    "        folium.Marker(location=[row.Latitude, row.Longitude],  popup=row.MAC, icon=folium.Icon(color=colors[i % len(colors)],icon='user-secret',prefix='fa')).add_to(feature_group)\n",
    "    feature_group.add_to(myMap)\n",
    "\n",
    "folium.LayerControl().add_to(myMap)\n",
    "display(myMap)"
   ]
  },
  {
   "cell_type": "code",
   "execution_count": null,
   "metadata": {},
   "outputs": [],
   "source": []
  }
 ],
 "metadata": {
  "kernelspec": {
   "display_name": "Python 3",
   "language": "python",
   "name": "python3"
  },
  "language_info": {
   "codemirror_mode": {
    "name": "ipython",
    "version": 3
   },
   "file_extension": ".py",
   "mimetype": "text/x-python",
   "name": "python",
   "nbconvert_exporter": "python",
   "pygments_lexer": "ipython3",
   "version": "3.8.10"
  }
 },
 "nbformat": 4,
 "nbformat_minor": 4
}
